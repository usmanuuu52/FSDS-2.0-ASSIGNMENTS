{
 "cells": [
  {
   "cell_type": "markdown",
   "id": "fc6cedbe",
   "metadata": {},
   "source": [
    "1.What are the two values of the Boolean data type? How do you write them?\n",
    "\n",
    "Ans- True - False"
   ]
  },
  {
   "cell_type": "markdown",
   "id": "f89a3f1b",
   "metadata": {},
   "source": [
    "2. What are the three different types of Boolean operators?\n",
    "Ans- \n",
    "\n",
    "      \"<\"\n",
    "\n",
    "      \">\" \n",
    "      \n",
    "      \"=\""
   ]
  },
  {
   "cell_type": "markdown",
   "id": "c55ade4e",
   "metadata": {},
   "source": [
    "3. Make a list of each Boolean operator&#39;s truth tables (i.e. every possible combination of Boolean\n",
    "values for the operator and what it evaluate )."
   ]
  },
  {
   "cell_type": "raw",
   "id": "e14af657",
   "metadata": {},
   "source": [
    "AND (and) Truth Table:\n",
    "A\tB\tA and B\n",
    "False\tFalse\tFalse\n",
    "False\tTrue\tFalse\n",
    "True\tFalse\tFalse\n",
    "True\tTrue\tTrue\n",
    "\n",
    "\n",
    "OR (or) Truth Table:\n",
    "A\tB\tA or B\n",
    "False\tFalse\tFalse\n",
    "False\tTrue\tTrue\n",
    "True\tFalse\tTrue\n",
    "True\tTrue\tTrue\n",
    "NOT (not) Truth Table:\n",
    "\n",
    "\n",
    "\n",
    "XOR (^) Truth Table:\n",
    "A\tB\tA ^ B\n",
    "False\tFalse\tFalse\n",
    "False\tTrue\tTrue\n",
    "True\tFalse\tTrue\n",
    "True\tTrue\tFalse"
   ]
  },
  {
   "cell_type": "markdown",
   "id": "0e928291",
   "metadata": {},
   "source": [
    "4. What are the values of the following expressions?\n",
    "\n",
    "(5 &gt; 4) and (3 == 5)- False\n",
    "\n",
    "not (5 &gt; 4)- False\n",
    "\n",
    "(5 &gt; 4) or (3 == 5)- True\n",
    "\n",
    "not ((5 &gt; 4) or (3 == 5))- False\n",
    "\n",
    "(True and True) and (True == False)- False \n",
    "\n",
    "(not False) or (not True)-  True\n",
    "\n"
   ]
  },
  {
   "cell_type": "raw",
   "id": "d94f2086",
   "metadata": {},
   "source": [
    "5.What are the six comparison operators?\n",
    "Ans-\n",
    "Equal to (==)\n",
    "Not equal to (!=)\n",
    "Greater than (>)\n",
    "Less than (<)\n",
    "Greater than or equal to (>=)\n",
    "Less than or equal to (<=)\n"
   ]
  },
  {
   "cell_type": "raw",
   "id": "d5479d4c",
   "metadata": {},
   "source": [
    "6. How do you tell the difference between the equal to and assignment operators?Describe a\n",
    "condition and when you would use one.\n",
    "\n",
    "Ans- Equal to is also known as comparison operator while assignment operator is use to assign a value to a variable\n",
    "if i want to inialize a value to a variable i will use assignment operator like-\n",
    "a=45\n",
    "b=\"Usman\"\n",
    "I will use Equal to operator when i need to compare two things like-\n",
    "a==b\n",
    "'Usman'=='usman'"
   ]
  },
  {
   "cell_type": "raw",
   "id": "d9decbce",
   "metadata": {},
   "source": [
    "7. Identify the three blocks in this code:\n",
    "spam = 0\n",
    "if spam == 10:\n",
    "    print('eggs')\n",
    "if spam > 5:\n",
    "    print('bacon')\n",
    "else:\n",
    "    print('ham')\n",
    "    print('spam')\n",
    "    print('spam')"
   ]
  },
  {
   "cell_type": "markdown",
   "id": "90a21469",
   "metadata": {},
   "source": [
    "Explanation:\n",
    "\n",
    "Block 1:\n",
    "This block contains a single if statement that checks if the value of spam is equal to 10. If this condition is true, the code inside the block is executed, which consists of a single line:\n",
    "\n",
    "python\n",
    "\n",
    "print('eggs')\n",
    "\n",
    "Block 2:\n",
    "This block contains an if statement that checks if the value of spam is greater than 5. If this condition is true, the code inside the first branch of the if statement is executed:\n",
    "\n",
    "python\n",
    "\n",
    "print('bacon')\n",
    "If the condition is false, the code inside the else branch of the if statement is executed. This else branch includes multiple lines:\n",
    "\n",
    "print('ham')\n",
    "\n",
    "print('spam')\n",
    "\n",
    "print('spam')\n",
    "\n",
    "Block 3:\n",
    "This block doesn't have its own code lines but encompasses the else part of Block 2. It's important to note that the else part of Block 2 is still considered a separate block in terms of program logic.\n",
    "\n",
    "In summary, the three blocks are:\n",
    "\n",
    "Block 1: The if statement checking spam == 10.\n",
    "Block 2: The combination of the if and else branches within the if statement checking spam > 5.\n",
    "Block 3: The else branch of Block 2 (though it doesn't have its own code lines)."
   ]
  },
  {
   "cell_type": "raw",
   "id": "8aa29bc4",
   "metadata": {},
   "source": [
    "8. Write code that prints Hello if 1 is stored in spam, prints Howdy if 2 is stored in spam, and prints\n",
    "Greetings! if anything else is stored in spam."
   ]
  },
  {
   "cell_type": "code",
   "execution_count": 4,
   "id": "c01cf2e9",
   "metadata": {},
   "outputs": [
    {
     "name": "stdout",
     "output_type": "stream",
     "text": [
      "Greetings!\n"
     ]
    }
   ],
   "source": [
    "if spam==1:\n",
    "    print('spam')\n",
    "elif spam==2:\n",
    "    print('Howdy')\n",
    "else:\n",
    "    print('Greetings!')"
   ]
  },
  {
   "cell_type": "raw",
   "id": "a37a1bb4",
   "metadata": {},
   "source": [
    "9.If your programme is stuck in an endless loop, what keys you’ll press?\n",
    "\n",
    "Ans- i will  Press \"I\" twice to stop the looping of the program"
   ]
  },
  {
   "cell_type": "raw",
   "id": "9cc30d17",
   "metadata": {},
   "source": [
    "10. How can you tell the difference between break and continue?\n",
    "Ans- Break is used to stop the loop if certain condition met while continue is used to continue the loop if certain condition is met and ignore that condition and its print value"
   ]
  },
  {
   "cell_type": "raw",
   "id": "7f46f9e0",
   "metadata": {},
   "source": [
    ".11. In a for loop, what is the difference between range(10), range(0, 10), and range(0, 10, 1)?\n",
    "\n",
    "Ans- range(10) and range(0, 10) both are same it will start from 0 and upto 10 but excluding 10 while range(0, 10, 1) \n",
    "is also the same as previous two ones here everything is just described as range is in default condition to\n",
    "start from 0 upto 10 excluding 10 and with a jump of 1\n"
   ]
  },
  {
   "cell_type": "raw",
   "id": "4173e806",
   "metadata": {},
   "source": [
    "12. Write a short program that prints the numbers 1 to 10 using a for loop. Then write an equivalent\n",
    "program that prints the numbers 1 to 10 using a while loop."
   ]
  },
  {
   "cell_type": "code",
   "execution_count": 5,
   "id": "3636ad09",
   "metadata": {},
   "outputs": [
    {
     "name": "stdout",
     "output_type": "stream",
     "text": [
      "1\n",
      "2\n",
      "3\n",
      "4\n",
      "5\n",
      "6\n",
      "7\n",
      "8\n",
      "9\n",
      "10\n"
     ]
    }
   ],
   "source": [
    "for i in range(1,11):\n",
    "    print(i)"
   ]
  },
  {
   "cell_type": "code",
   "execution_count": 6,
   "id": "b4196abf",
   "metadata": {},
   "outputs": [
    {
     "name": "stdout",
     "output_type": "stream",
     "text": [
      "1\n",
      "2\n",
      "3\n",
      "4\n",
      "5\n",
      "6\n",
      "7\n",
      "8\n",
      "9\n",
      "10\n"
     ]
    }
   ],
   "source": [
    "i=1\n",
    "while i<=10:\n",
    "    print(i)\n",
    "    i+=1"
   ]
  },
  {
   "cell_type": "raw",
   "id": "4021013f",
   "metadata": {},
   "source": [
    "13. If you had a function named bacon() inside a module named spam, how would you call it after\n",
    "importing spam?\n",
    "\n",
    "Ans- import module\n",
    "module.spam()"
   ]
  },
  {
   "cell_type": "code",
   "execution_count": null,
   "id": "c8f54e0e",
   "metadata": {},
   "outputs": [],
   "source": []
  }
 ],
 "metadata": {
  "kernelspec": {
   "display_name": "Python 3 (ipykernel)",
   "language": "python",
   "name": "python3"
  },
  "language_info": {
   "codemirror_mode": {
    "name": "ipython",
    "version": 3
   },
   "file_extension": ".py",
   "mimetype": "text/x-python",
   "name": "python",
   "nbconvert_exporter": "python",
   "pygments_lexer": "ipython3",
   "version": "3.11.3"
  }
 },
 "nbformat": 4,
 "nbformat_minor": 5
}
