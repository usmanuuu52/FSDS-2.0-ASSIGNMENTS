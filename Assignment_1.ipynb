{
 "cells": [
  {
   "cell_type": "markdown",
   "id": "54074537",
   "metadata": {},
   "source": [
    "### 1. In the below elements which of them are values or an expression? eg:- values can be\n",
    "### integer or string and expressions will be mathematical operators.\n",
    "## *\n",
    "## &#39;hello&#39;\n",
    "## -87.8\n",
    "## -\n",
    "## /\n",
    "## +\n",
    "## 6"
   ]
  },
  {
   "cell_type": "markdown",
   "id": "b85ed857",
   "metadata": {},
   "source": [
    "1- Exprssion\n",
    "\n",
    "2- String\n",
    "\n",
    "3- Integer\n",
    "\n",
    "4- Expression\n",
    "\n",
    "5- Expression\n",
    "\n",
    "6- Expression\n",
    "\n",
    "7- Expression\n",
    "\n",
    "8- Integer"
   ]
  },
  {
   "cell_type": "markdown",
   "id": "81f793b2",
   "metadata": {},
   "source": [
    "2. What is the difference between string and variable?\n",
    "\n",
    "Ans- A string is a data type used to represent a sequence of characters. Characters can include letters, numbers, symbols, and spaces. Strings are often used to represent text in programming. In most programming languages, including Python, strings are enclosed in quotation marks (single or double). \n",
    "\n",
    "While variable is container which is used to point out or store any string,integer or anything else in the memory and we can access it by that variable name \n"
   ]
  },
  {
   "cell_type": "markdown",
   "id": "4e81fe08",
   "metadata": {},
   "source": [
    "3. Describe three different data types.\n",
    "\n",
    "#### String-  A string is a data type used to represent a sequence of characters. Characters can include letters, numbers, symbols, and spaces. Strings are often used to represent text in programming. In most programming languages, including Python, strings are enclosed in quotation marks (single or double).\n",
    "\n",
    "#### Integer- Integer is used to store integers , i may be a positive integer or negative integer e.g 1,22,44,-34,-84\n",
    "\n",
    "#### List- List is a versatile data structure used to store a collection of items. Lists are ordered, mutable (modifiable), and allow duplicate elements. Each element in a list has an associated index that starts from 0 for the first element."
   ]
  },
  {
   "cell_type": "markdown",
   "id": "baff4582",
   "metadata": {},
   "source": [
    "## 4- What is an expression made up of? What do all expressions do?\n",
    "#### Ans-An expression in programming is a combination of values, variables, operators, and function calls that can be evaluated to produce a result. Expressions are a fundamental part of programming languages and are used to perform computations, make decisions, and manipulate data. They can be as simple as a single constant value or as complex as a combination of multiple operations."
   ]
  },
  {
   "cell_type": "markdown",
   "id": "e1113fe4",
   "metadata": {},
   "source": [
    "### 5. This assignment statements, like spam = 10. What is the difference between an\n",
    "### expression and a statement?\n",
    "\n",
    "#### Ans-The concepts of expressions and statements are fundamental in programming and play distinct roles in how code is executed.\n",
    "\n",
    "#### Expression:\n",
    "#### An expression is a combination of values, variables, operators, and function calls that can be evaluated to produce a value. Expressions are intended to compute a result. They can be used within larger expressions, as part of statements, or even as standalone values.\n",
    "\n",
    "#### Examples of expressions:\n",
    "\n",
    "5 + 3 (computes the sum of 5 and 3)\n",
    "x * y (multiplies the values of variables x and y)\n",
    "len(\"Hello\") (calls the len() function and returns the length of the string)\n",
    "Statement:\n",
    "A statement is a complete line of code that performs an action. Statements are executed sequentially and contribute to the overall program's logic. Unlike expressions, statements are not evaluated to produce a value; rather, they direct the flow of the program by causing actions to occur, like assigning values, making decisions, looping, or defining functions.\n",
    "\n",
    "Examples of statements:\n",
    "\n",
    "spam = 10 (assigns the value 10 to the variable spam)\n",
    "if x > 0: print(\"Positive\") (checks a condition and executes the print() statement if the condition is met)\n",
    "while count < 10: count += 1 (executes the loop statement until the condition is no longer true)\n",
    "def my_function(): ... (defines a function)"
   ]
  },
  {
   "cell_type": "markdown",
   "id": "4d6291e6",
   "metadata": {},
   "source": [
    "6. After running the following code, what does the variable bacon contain?\n",
    "bacon = 22\n",
    "bacon + 1\n",
    "\n",
    "Ans- 23"
   ]
  },
  {
   "cell_type": "markdown",
   "id": "cb5ba372",
   "metadata": {},
   "source": [
    "7. What should the values of the following two terms be?\n",
    "&#39;spam&#39; + &#39;spamspam&#39;\n",
    "&#39;spam&#39; * 3\n"
   ]
  },
  {
   "cell_type": "code",
   "execution_count": 2,
   "id": "56d42d61",
   "metadata": {},
   "outputs": [
    {
     "name": "stdout",
     "output_type": "stream",
     "text": [
      "spamspamspam\n"
     ]
    },
    {
     "data": {
      "text/plain": [
       "'spamspamspam'"
      ]
     },
     "execution_count": 2,
     "metadata": {},
     "output_type": "execute_result"
    }
   ],
   "source": [
    "a=\"spam\"+\"spamspam\"\n",
    "print(a)\n",
    "\"spam\"*3"
   ]
  },
  {
   "cell_type": "markdown",
   "id": "a9c360d9",
   "metadata": {},
   "source": [
    "# 8. Why is eggs a valid variable name while 100 is invalid?\n",
    "### Ans- eggs is a vaid variable name and 100 not because a variable name cannot be start with an integer"
   ]
  },
  {
   "cell_type": "markdown",
   "id": "890318f5",
   "metadata": {},
   "source": [
    "9. What three functions can be used to get the integer, floating-point number, or string\n",
    "version of a value?\n",
    "\n",
    "Ans- str() for string\n",
    "     float() for floating-point\n",
    "     int() for integer"
   ]
  },
  {
   "cell_type": "markdown",
   "id": "3f1f6a14",
   "metadata": {},
   "source": [
    "10- Why does this expression cause an error? How can you fix it?\n",
    "&#39;I have eaten &#39; + 99 + &#39; burritos.&#39;"
   ]
  },
  {
   "cell_type": "markdown",
   "id": "24947910",
   "metadata": {},
   "source": [
    "Ans- 'I have eaten ' + str(99) + \" burritos\""
   ]
  },
  {
   "cell_type": "code",
   "execution_count": null,
   "id": "9fae8ea2",
   "metadata": {},
   "outputs": [],
   "source": []
  }
 ],
 "metadata": {
  "kernelspec": {
   "display_name": "Python 3 (ipykernel)",
   "language": "python",
   "name": "python3"
  },
  "language_info": {
   "codemirror_mode": {
    "name": "ipython",
    "version": 3
   },
   "file_extension": ".py",
   "mimetype": "text/x-python",
   "name": "python",
   "nbconvert_exporter": "python",
   "pygments_lexer": "ipython3",
   "version": "3.11.3"
  }
 },
 "nbformat": 4,
 "nbformat_minor": 5
}
